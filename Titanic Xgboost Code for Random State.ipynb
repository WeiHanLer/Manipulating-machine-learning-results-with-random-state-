{
 "cells": [
  {
   "cell_type": "code",
   "execution_count": 9,
   "metadata": {
    "ExecuteTime": {
     "end_time": "2019-12-08T14:06:03.677286Z",
     "start_time": "2019-12-08T14:06:03.665319Z"
    }
   },
   "outputs": [],
   "source": [
    "import numpy as np\n",
    "import pandas as pd\n",
    "train=pd.read_csv('C:\\\\Users\\\\...\\\\Downloads\\\\train.csv', sep=\",\", header=0, index_col=0)\n",
    "test=pd.read_csv('C:\\\\Users\\\\...\\\\Downloads\\\\test.csv', sep=\",\", header=0, index_col=0)"
   ]
  },
  {
   "cell_type": "code",
   "execution_count": 10,
   "metadata": {
    "ExecuteTime": {
     "end_time": "2019-12-08T14:06:04.154700Z",
     "start_time": "2019-12-08T14:06:04.131762Z"
    }
   },
   "outputs": [],
   "source": [
    "#to extract the title of the passengers \n",
    "train['Name']=train['Name'].str.extract('(, \\w+)')\n",
    "train['Name']=train['Name'].str.extract('(\\w+)')\n",
    "\n",
    "#filling in empty entries and encoding them to be machine learning usable\n",
    "for x in train.columns:\n",
    "    train[x]=train[x].fillna(0)\n",
    "\n",
    "from sklearn import preprocessing\n",
    "Encoder=preprocessing.LabelEncoder()\n",
    "columns= ['Name', 'Sex', 'Embarked']    \n",
    "for x in columns:\n",
    "    train[x]=Encoder.fit_transform(train[x].astype(str))\n",
    "\n",
    "#Drop unneeded columns\n",
    "train.drop('Cabin', axis=1, inplace=True)\n",
    "train.drop('Ticket', axis=1, inplace=True)\n",
    "\n",
    "#separating the label from data\n",
    "Y_train=train['Survived']\n",
    "X_train=train.drop('Survived',axis=1)\n"
   ]
  },
  {
   "cell_type": "code",
   "execution_count": 11,
   "metadata": {
    "ExecuteTime": {
     "end_time": "2019-12-08T14:06:04.651472Z",
     "start_time": "2019-12-08T14:06:04.638507Z"
    }
   },
   "outputs": [
    {
     "data": {
      "text/html": [
       "<div>\n",
       "<style scoped>\n",
       "    .dataframe tbody tr th:only-of-type {\n",
       "        vertical-align: middle;\n",
       "    }\n",
       "\n",
       "    .dataframe tbody tr th {\n",
       "        vertical-align: top;\n",
       "    }\n",
       "\n",
       "    .dataframe thead th {\n",
       "        text-align: right;\n",
       "    }\n",
       "</style>\n",
       "<table border=\"1\" class=\"dataframe\">\n",
       "  <thead>\n",
       "    <tr style=\"text-align: right;\">\n",
       "      <th></th>\n",
       "      <th>Pclass</th>\n",
       "      <th>Name</th>\n",
       "      <th>Sex</th>\n",
       "      <th>Age</th>\n",
       "      <th>SibSp</th>\n",
       "      <th>Parch</th>\n",
       "      <th>Fare</th>\n",
       "      <th>Embarked</th>\n",
       "    </tr>\n",
       "    <tr>\n",
       "      <th>PassengerId</th>\n",
       "      <th></th>\n",
       "      <th></th>\n",
       "      <th></th>\n",
       "      <th></th>\n",
       "      <th></th>\n",
       "      <th></th>\n",
       "      <th></th>\n",
       "      <th></th>\n",
       "    </tr>\n",
       "  </thead>\n",
       "  <tbody>\n",
       "    <tr>\n",
       "      <td>1</td>\n",
       "      <td>3</td>\n",
       "      <td>11</td>\n",
       "      <td>1</td>\n",
       "      <td>22.0</td>\n",
       "      <td>1</td>\n",
       "      <td>0</td>\n",
       "      <td>7.2500</td>\n",
       "      <td>3</td>\n",
       "    </tr>\n",
       "    <tr>\n",
       "      <td>2</td>\n",
       "      <td>1</td>\n",
       "      <td>12</td>\n",
       "      <td>0</td>\n",
       "      <td>38.0</td>\n",
       "      <td>1</td>\n",
       "      <td>0</td>\n",
       "      <td>71.2833</td>\n",
       "      <td>1</td>\n",
       "    </tr>\n",
       "    <tr>\n",
       "      <td>3</td>\n",
       "      <td>3</td>\n",
       "      <td>8</td>\n",
       "      <td>0</td>\n",
       "      <td>26.0</td>\n",
       "      <td>0</td>\n",
       "      <td>0</td>\n",
       "      <td>7.9250</td>\n",
       "      <td>3</td>\n",
       "    </tr>\n",
       "    <tr>\n",
       "      <td>4</td>\n",
       "      <td>1</td>\n",
       "      <td>12</td>\n",
       "      <td>0</td>\n",
       "      <td>35.0</td>\n",
       "      <td>1</td>\n",
       "      <td>0</td>\n",
       "      <td>53.1000</td>\n",
       "      <td>3</td>\n",
       "    </tr>\n",
       "    <tr>\n",
       "      <td>5</td>\n",
       "      <td>3</td>\n",
       "      <td>11</td>\n",
       "      <td>1</td>\n",
       "      <td>35.0</td>\n",
       "      <td>0</td>\n",
       "      <td>0</td>\n",
       "      <td>8.0500</td>\n",
       "      <td>3</td>\n",
       "    </tr>\n",
       "  </tbody>\n",
       "</table>\n",
       "</div>"
      ],
      "text/plain": [
       "             Pclass  Name  Sex   Age  SibSp  Parch     Fare  Embarked\n",
       "PassengerId                                                          \n",
       "1                 3    11    1  22.0      1      0   7.2500         3\n",
       "2                 1    12    0  38.0      1      0  71.2833         1\n",
       "3                 3     8    0  26.0      0      0   7.9250         3\n",
       "4                 1    12    0  35.0      1      0  53.1000         3\n",
       "5                 3    11    1  35.0      0      0   8.0500         3"
      ]
     },
     "execution_count": 11,
     "metadata": {},
     "output_type": "execute_result"
    }
   ],
   "source": [
    "X_train.head()"
   ]
  },
  {
   "cell_type": "code",
   "execution_count": 12,
   "metadata": {
    "ExecuteTime": {
     "end_time": "2019-12-08T14:06:29.076556Z",
     "start_time": "2019-12-08T14:06:05.323887Z"
    }
   },
   "outputs": [
    {
     "name": "stdout",
     "output_type": "stream",
     "text": [
      "Best score: 0.8249158249158249\n",
      "Best parameters: {'colsample_bytree': 1.0, 'gamma': 0.5, 'max_depth': 4, 'min_child_weight': 1, 'subsample': 0.8}\n"
     ]
    }
   ],
   "source": [
    "\n",
    "#performing grid search to find best hyperparameter\n",
    "from sklearn.model_selection import GridSearchCV\n",
    "from sklearn.model_selection import StratifiedKFold\n",
    "from xgboost import XGBClassifier\n",
    "XGB = XGBClassifier(random_state=0)\n",
    "parameter_grid = {'min_child_weight': [1, 5, 10],\n",
    "        'gamma': [0.5, 1, 1.5, 2, 5],\n",
    "        'subsample': [0.6, 0.8, 1.0],\n",
    "        'colsample_bytree': [0.6, 0.8, 1.0],\n",
    "        'max_depth': [3, 4, 5]}\n",
    "\n",
    "cross_validation = StratifiedKFold(n_splits=3,random_state=0,shuffle=True)\n",
    "\n",
    "grid_search_XGB = GridSearchCV(XGB,\n",
    "                           param_grid=parameter_grid,\n",
    "                           cv=cross_validation,\n",
    "                            n_jobs=-1,\n",
    "                            verbose=0)\n",
    "\n",
    "grid_search_XGB.fit(X_train, Y_train)\n",
    "print('Best score: {}'.format(grid_search_XGB.best_score_))\n",
    "print('Best parameters: {}'.format(grid_search_XGB.best_params_))\n",
    " "
   ]
  },
  {
   "cell_type": "code",
   "execution_count": 13,
   "metadata": {
    "ExecuteTime": {
     "end_time": "2019-12-08T14:10:01.920503Z",
     "start_time": "2019-12-08T14:06:29.077552Z"
    }
   },
   "outputs": [
    {
     "name": "stdout",
     "output_type": "stream",
     "text": [
      "Xgboost Random state:0 Best score: 0.835016835016835\n",
      "Xgboost Random state:1 Best score: 0.8361391694725028\n",
      "Xgboost Random state:2 Best score: 0.8383838383838383\n",
      "Xgboost Random state:3 Best score: 0.8361391694725028\n",
      "Xgboost Random state:4 Best score: 0.8372615039281706\n"
     ]
    }
   ],
   "source": [
    "\n",
    "for i in np.arange(0,5):\n",
    "    XGB = XGBClassifier(random_state=i)\n",
    "    parameter_grid = {'min_child_weight': [1, 5, 10],\n",
    "        'gamma': [0.5, 1, 1.5, 2, 5],\n",
    "        'subsample': [0.6, 0.8, 1.0],\n",
    "        'colsample_bytree': [0.6, 0.8, 1.0],\n",
    "        'max_depth': [3, 4, 5]}\n",
    "\n",
    "    cross_validation = StratifiedKFold(n_splits=5,random_state=0,shuffle=True)\n",
    "\n",
    "    grid_search_XGB = GridSearchCV(XGB,\n",
    "                           param_grid=parameter_grid,\n",
    "                           cv=cross_validation,\n",
    "                            n_jobs=-1,\n",
    "                            verbose=0)\n",
    "\n",
    "    grid_search_XGB.fit(X_train, Y_train)\n",
    "    print('Xgboost Random state:{}'.format(i),'Best score: {}'.format(grid_search_XGB.best_score_))\n",
    "   \n"
   ]
  },
  {
   "cell_type": "code",
   "execution_count": 14,
   "metadata": {
    "ExecuteTime": {
     "end_time": "2019-12-08T14:19:12.225116Z",
     "start_time": "2019-12-08T14:10:01.922497Z"
    }
   },
   "outputs": [
    {
     "name": "stdout",
     "output_type": "stream",
     "text": [
      "Xgboost Random state:0 CV Random state:0 Best score: 0.8249158249158249\n",
      "Xgboost Random state:0 CV Random state:1 Best score: 0.8305274971941639\n",
      "Xgboost Random state:0 CV Random state:2 Best score: 0.8395061728395061\n",
      "Xgboost Random state:0 CV Random state:3 Best score: 0.8417508417508418\n",
      "Xgboost Random state:0 CV Random state:4 Best score: 0.8439955106621774\n",
      "Xgboost Random state:1 CV Random state:0 Best score: 0.8271604938271605\n",
      "Xgboost Random state:1 CV Random state:1 Best score: 0.8249158249158249\n",
      "Xgboost Random state:1 CV Random state:2 Best score: 0.8406285072951739\n",
      "Xgboost Random state:1 CV Random state:3 Best score: 0.8395061728395061\n",
      "Xgboost Random state:1 CV Random state:4 Best score: 0.8428731762065096\n",
      "Xgboost Random state:2 CV Random state:0 Best score: 0.8271604938271605\n",
      "Xgboost Random state:2 CV Random state:1 Best score: 0.8226711560044894\n",
      "Xgboost Random state:2 CV Random state:2 Best score: 0.8395061728395061\n",
      "Xgboost Random state:2 CV Random state:3 Best score: 0.8383838383838383\n",
      "Xgboost Random state:2 CV Random state:4 Best score: 0.8428731762065096\n",
      "Xgboost Random state:3 CV Random state:0 Best score: 0.8260381593714927\n",
      "Xgboost Random state:3 CV Random state:1 Best score: 0.8237934904601572\n",
      "Xgboost Random state:3 CV Random state:2 Best score: 0.8406285072951739\n",
      "Xgboost Random state:3 CV Random state:3 Best score: 0.8417508417508418\n",
      "Xgboost Random state:3 CV Random state:4 Best score: 0.8417508417508418\n",
      "Xgboost Random state:4 CV Random state:0 Best score: 0.8305274971941639\n",
      "Xgboost Random state:4 CV Random state:1 Best score: 0.8271604938271605\n",
      "Xgboost Random state:4 CV Random state:2 Best score: 0.8484848484848485\n",
      "Xgboost Random state:4 CV Random state:3 Best score: 0.8406285072951739\n",
      "Xgboost Random state:4 CV Random state:4 Best score: 0.8428731762065096\n"
     ]
    }
   ],
   "source": [
    " parameter_grid = {'min_child_weight': [1, 5, 10],\n",
    "        'gamma': [0.5, 1, 1.5, 2, 5],\n",
    "        'subsample': [0.6, 0.8, 1.0],\n",
    "        'colsample_bytree': [0.6, 0.8, 1.0],\n",
    "        'max_depth': [3, 4, 5]}\n",
    "\n",
    "for i in np.arange(0,5):\n",
    "    for j in np.arange(0,5):\n",
    "        XGB = XGBClassifier(random_state=i)\n",
    "        cross_validation = StratifiedKFold(n_splits=3,random_state=j,shuffle=True)\n",
    "        grid_search_XGB = GridSearchCV(XGB,\n",
    "                           param_grid=parameter_grid,\n",
    "                           cv=cross_validation,\n",
    "                            n_jobs=-1,\n",
    "                            verbose=0)\n",
    "\n",
    "        grid_search_XGB.fit(X_train, Y_train)\n",
    "        print('Xgboost Random state:{}'.format(i),'CV Random state:{}'.format(j),'Best score: {}'.format(grid_search_XGB.best_score_))\n"
   ]
  },
  {
   "cell_type": "code",
   "execution_count": 15,
   "metadata": {
    "ExecuteTime": {
     "end_time": "2019-12-08T14:19:12.231790Z",
     "start_time": "2019-12-08T14:19:12.226816Z"
    }
   },
   "outputs": [
    {
     "name": "stdout",
     "output_type": "stream",
     "text": [
      "Best score: 0.8428731762065096\n",
      "Best parameters: {'colsample_bytree': 0.6, 'gamma': 1.5, 'max_depth': 5, 'min_child_weight': 1, 'subsample': 0.8}\n"
     ]
    }
   ],
   "source": [
    "print('Best score: {}'.format(grid_search_XGB.best_score_))\n",
    "print('Best parameters: {}'.format(grid_search_XGB.best_params_))"
   ]
  },
  {
   "cell_type": "code",
   "execution_count": null,
   "metadata": {
    "ExecuteTime": {
     "end_time": "2019-12-02T13:48:07.032277Z",
     "start_time": "2019-12-02T13:48:07.010149Z"
    }
   },
   "outputs": [],
   "source": [
    "grid_search_XGB.best_estimator_"
   ]
  }
 ],
 "metadata": {
  "hide_input": false,
  "kernelspec": {
   "display_name": "Python 3",
   "language": "python",
   "name": "python3"
  },
  "language_info": {
   "codemirror_mode": {
    "name": "ipython",
    "version": 3
   },
   "file_extension": ".py",
   "mimetype": "text/x-python",
   "name": "python",
   "nbconvert_exporter": "python",
   "pygments_lexer": "ipython3",
   "version": "3.7.4"
  },
  "toc": {
   "base_numbering": 1,
   "nav_menu": {},
   "number_sections": true,
   "sideBar": true,
   "skip_h1_title": false,
   "title_cell": "Table of Contents",
   "title_sidebar": "Contents",
   "toc_cell": false,
   "toc_position": {},
   "toc_section_display": true,
   "toc_window_display": false
  }
 },
 "nbformat": 4,
 "nbformat_minor": 2
}
